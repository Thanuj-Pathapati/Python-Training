{
 "cells": [
  {
   "cell_type": "code",
   "execution_count": 1,
   "metadata": {},
   "outputs": [
    {
     "name": "stdout",
     "output_type": "stream",
     "text": [
      "Application\n"
     ]
    }
   ],
   "source": [
    "str=\"Application\"\n",
    "print(str)"
   ]
  },
  {
   "cell_type": "code",
   "execution_count": 3,
   "metadata": {},
   "outputs": [
    {
     "name": "stdout",
     "output_type": "stream",
     "text": [
      " Application test\n",
      "    working\n",
      "    completed\n",
      "    list\n",
      "    string\n",
      "    python "
     ]
    }
   ],
   "source": [
    "str=\"\"\" Application test\n",
    "    working\n",
    "    completed\n",
    "    list\n",
    "    string\n",
    "    python\"\"\"\n",
    "print(str)"
   ]
  },
  {
   "cell_type": "code",
   "execution_count": 6,
   "metadata": {},
   "outputs": [
    {
     "name": "stdout",
     "output_type": "stream",
     "text": [
      "Application\n",
      "str[0]= A\n",
      "str[1]= p\n",
      "str[-1]= n\n",
      "str[-3]= i\n",
      "str[1:5]= ppli\n",
      "str[:5]= Appli\n",
      "str[1:-5]= pplic\n",
      "str[5:-2]= cati\n",
      "str[::-1]= noitacilppA\n"
     ]
    }
   ],
   "source": [
    "str=\"Application\"\n",
    "print(str)\n",
    "print(\"str[0]=\",str[0])\n",
    "print(\"str[1]=\",str[1])\n",
    "print(\"str[-1]=\",str[-1])\n",
    "print(\"str[-3]=\",str[-3])\n",
    "print(\"str[1:5]=\",str[1:5])\n",
    "print(\"str[:5]=\",str[:5])\n",
    "print(\"str[1:-5]=\",str[1:-5])\n",
    "print(\"str[5:-2]=\",str[5:-2])\n",
    "print(\"str[::-1]=\",str[::-1])#to reverse the string"
   ]
  },
  {
   "cell_type": "code",
   "execution_count": 8,
   "metadata": {},
   "outputs": [
    {
     "name": "stdout",
     "output_type": "stream",
     "text": [
      "False\n",
      "True\n"
     ]
    }
   ],
   "source": [
    "def ispalindrome(s):\n",
    "    if s==s[::-1]:\n",
    "        return True\n",
    "    else:\n",
    "        return False\n",
    "print(ispalindrome(\"python\"))\n",
    "print(ispalindrome(\"jalaj\"))"
   ]
  },
  {
   "cell_type": "code",
   "execution_count": 9,
   "metadata": {},
   "outputs": [
    {
     "data": {
      "text/plain": [
       "11"
      ]
     },
     "execution_count": 9,
     "metadata": {},
     "output_type": "execute_result"
    }
   ],
   "source": [
    "def countofchars(str):\n",
    "    return len(str)\n",
    "countofchars(\"Application\")"
   ]
  },
  {
   "cell_type": "code",
   "execution_count": 10,
   "metadata": {},
   "outputs": [
    {
     "data": {
      "text/plain": [
       "9"
      ]
     },
     "execution_count": 10,
     "metadata": {},
     "output_type": "execute_result"
    }
   ],
   "source": [
    "def countdigits(n):\n",
    "    return len(n)\n",
    "countdigits(\"369576245\")"
   ]
  },
  {
   "cell_type": "code",
   "execution_count": 14,
   "metadata": {},
   "outputs": [
    {
     "name": "stdout",
     "output_type": "stream",
     "text": [
      "4\n",
      "2\n"
     ]
    }
   ],
   "source": [
    "def countuppercase(str):\n",
    "    count=0\n",
    "    lst=list(str)\n",
    "    for x in range(len(lst)):\n",
    "        if ord(lst[x])>=65 and ord(lst[x])<=90:\n",
    "            count=count+1\n",
    "    return count\n",
    "print(countuppercase(\"AppLiacAtioN\"))\n",
    "print(countuppercase(\"LiSt\"))"
   ]
  },
  {
   "cell_type": "code",
   "execution_count": 35,
   "metadata": {},
   "outputs": [
    {
     "name": "stdout",
     "output_type": "stream",
     "text": [
      "1889.\n",
      "117.\n"
     ]
    }
   ],
   "source": [
    "def printdigits(str):\n",
    "    lst1=list(str)\n",
    "    for x in range(len(lst1)):\n",
    "        if ord(lst1[x])>=48 and ord(lst1[x])<=57:\n",
    "            print(lst1[x],end=\"\")\n",
    "    return '.'      \n",
    "    \n",
    "print(printdigits(\"Application1889\"))\n",
    "print(printdigits(\"Goodachari117\"))"
   ]
  },
  {
   "cell_type": "code",
   "execution_count": 36,
   "metadata": {},
   "outputs": [
    {
     "data": {
      "text/plain": [
       "9"
      ]
     },
     "execution_count": 36,
     "metadata": {},
     "output_type": "execute_result"
    }
   ],
   "source": [
    "def sumofdigits(str):\n",
    "    sum=0\n",
    "    lst1=list(str)\n",
    "    for x in range(len(lst1)):\n",
    "        if ord(lst1[x])>=48 and ord(lst1[x])<=57:\n",
    "            sum=sum+ord(lst1[x])-48;\n",
    "    return sum\n",
    "sumofdigits(\"Goodachari117\")"
   ]
  },
  {
   "cell_type": "code",
   "execution_count": 47,
   "metadata": {},
   "outputs": [
    {
     "name": "stdout",
     "output_type": "stream",
     "text": [
      "16\n",
      "6\n",
      "10\n"
     ]
    }
   ],
   "source": [
    "def sumonlyeven(str):\n",
    "    sum=0\n",
    "    lst1=list(str)\n",
    "    for x in range(len(lst1)):\n",
    "        if ord(lst1[x])>=48 and ord(lst1[x])<=57:\n",
    "            if ord(lst1[x])%2==0:\n",
    "                sum=sum+ord(lst1[x])-48;\n",
    "    return sum\n",
    "print(sumonlyeven(\"Application1889\"))\n",
    "print(sumonlyeven(\"Goodachari116\"))\n",
    "print(sumonlyeven(\"wor7852king\"))"
   ]
  },
  {
   "cell_type": "code",
   "execution_count": null,
   "metadata": {},
   "outputs": [],
   "source": []
  }
 ],
 "metadata": {
  "kernelspec": {
   "display_name": "Python 3",
   "language": "python",
   "name": "python3"
  },
  "language_info": {
   "codemirror_mode": {
    "name": "ipython",
    "version": 3
   },
   "file_extension": ".py",
   "mimetype": "text/x-python",
   "name": "python",
   "nbconvert_exporter": "python",
   "pygments_lexer": "ipython3",
   "version": "3.7.3"
  }
 },
 "nbformat": 4,
 "nbformat_minor": 2
}
