{
 "cells": [
  {
   "cell_type": "code",
   "execution_count": 2,
   "metadata": {},
   "outputs": [
    {
     "name": "stdout",
     "output_type": "stream",
     "text": [
      "element found\n",
      "2\n"
     ]
    }
   ],
   "source": [
    "def linearsearch(a,keyelement):#for getting count of the number we need to break from program below count=count+1\n",
    "    flag=0;\n",
    "    count=0;\n",
    "    for i in range(len(a)):\n",
    "        if a[i]==keyelement:\n",
    "            flag=1;\n",
    "            count=count+1;\n",
    "    if(flag!=0):\n",
    "        print(\"element found\")\n",
    "    else:\n",
    "        print(\"element not found\")\n",
    "    print(count);\n",
    "a=[16,2,13,41,43,21,34,2]\n",
    "linearsearch(a,2)"
   ]
  },
  {
   "cell_type": "code",
   "execution_count": 3,
   "metadata": {},
   "outputs": [
    {
     "name": "stdout",
     "output_type": "stream",
     "text": [
      "[10, 2, 20, 4, 30, 6]\n"
     ]
    }
   ],
   "source": [
    "a=[1,2,3,4,5,6]\n",
    "a[::2]=10,20,30\n",
    "print(a)"
   ]
  },
  {
   "cell_type": "code",
   "execution_count": 4,
   "metadata": {},
   "outputs": [
    {
     "name": "stdout",
     "output_type": "stream",
     "text": [
      "[1]\n",
      "[1, 2]\n",
      "[1, 2, 3]\n"
     ]
    },
    {
     "data": {
      "text/plain": [
       "[1, 2, 3]"
      ]
     },
     "execution_count": 4,
     "metadata": {},
     "output_type": "execute_result"
    }
   ],
   "source": [
    "def f(i,value=[]):\n",
    "    value.append(i)\n",
    "    print(value)\n",
    "    return value\n",
    "f(1)\n",
    "f(2)\n",
    "f(3)"
   ]
  },
  {
   "cell_type": "code",
   "execution_count": 5,
   "metadata": {},
   "outputs": [
    {
     "name": "stdout",
     "output_type": "stream",
     "text": [
      "2 3 4 5 6 6 "
     ]
    }
   ],
   "source": [
    "arr=[1,2,3,4,5,6]\n",
    "for i in range(1,6):\n",
    "    arr[i-1]=arr[i]\n",
    "for i in range(0,6):\n",
    "    print(arr[i],end=\" \")"
   ]
  },
  {
   "cell_type": "code",
   "execution_count": 6,
   "metadata": {},
   "outputs": [
    {
     "name": "stdout",
     "output_type": "stream",
     "text": [
      "3\n"
     ]
    }
   ],
   "source": [
    "def linearexample1(a,keyelement):\n",
    "    flag=0;\n",
    "    for i in range(len(a)):\n",
    "        if a[i]==keyelement:\n",
    "            flag=flag+1;\n",
    "    print(flag);\n",
    "a=[1,3,4,1,4,2,5,1]\n",
    "linearexample1(a,1)"
   ]
  },
  {
   "cell_type": "code",
   "execution_count": 7,
   "metadata": {},
   "outputs": [
    {
     "name": "stdout",
     "output_type": "stream",
     "text": [
      "$ $  $ $ $ $ $  $ $ $ $ $ $ $ $  "
     ]
    }
   ],
   "source": [
    "def linearexample2(a,keyelement):\n",
    "    for i in range(len(a)):\n",
    "        if a[i]==keyelement:\n",
    "            j=0;\n",
    "            while j!=i+1:\n",
    "                print(\"$\",end=\" \");\n",
    "                j=j+1;\n",
    "            print(end=\" \");\n",
    "a=[1,5,9,6,5,15,12,5]\n",
    "linearexample2(a,5)"
   ]
  },
  {
   "cell_type": "code",
   "execution_count": 8,
   "metadata": {},
   "outputs": [
    {
     "data": {
      "text/plain": [
       "60"
      ]
     },
     "execution_count": 8,
     "metadata": {},
     "output_type": "execute_result"
    }
   ],
   "source": [
    "def linearexample3(a):\n",
    "    sum=0\n",
    "    for i in range(len(a)):\n",
    "        if a[i]%3==0 and a[i]%5==0:\n",
    "            sum=sum+a[i];\n",
    "    return sum\n",
    "a=[15,3,45,31,43,76]\n",
    "linearexample3(a)\n",
    "            \n",
    "        "
   ]
  },
  {
   "cell_type": "code",
   "execution_count": 9,
   "metadata": {},
   "outputs": [
    {
     "name": "stdout",
     "output_type": "stream",
     "text": [
      "1 3 8 15 5 "
     ]
    }
   ],
   "source": [
    "def linearformattedoutput(a):\n",
    "    for i in range(len(a)):\n",
    "        if i==0 or i==(len(a)-1):\n",
    "            print(a[i],end=\" \");\n",
    "        else:\n",
    "            print(a[i-1]*a[i+1],end=\" \");\n",
    "a=[1,2,3,4,5]\n",
    "linearformattedoutput(a)\n",
    "    "
   ]
  },
  {
   "cell_type": "code",
   "execution_count": 10,
   "metadata": {},
   "outputs": [
    {
     "name": "stdout",
     "output_type": "stream",
     "text": [
      "1 9 19 22 "
     ]
    }
   ],
   "source": [
    "def linearformattedoutput2(a):\n",
    "    for i in range(len(a)):\n",
    "        if i==0 or i==(len(a)-1):\n",
    "            print(a[i],end=\" \");\n",
    "        elif a[i-1]%2==0 and a[i+1]%2==0:\n",
    "            print(a[i],end=\" \");\n",
    "a=[1,6,9,4,16,19,22]\n",
    "linearformattedoutput2(a)"
   ]
  },
  {
   "cell_type": "code",
   "execution_count": 11,
   "metadata": {},
   "outputs": [
    {
     "name": "stdout",
     "output_type": "stream",
     "text": [
      "enter number35735735\n",
      "[3, 5, 7, 3, 5, 7, 3, 5]\n"
     ]
    }
   ],
   "source": [
    "def numbertolist(n):\n",
    "    list=[]\n",
    "    while n!=0:\n",
    "        digit=n%10;\n",
    "        list.append(digit)\n",
    "        n=n//10;\n",
    "    list.reverse()\n",
    "    print(list)\n",
    "    \n",
    "    \n",
    "n=int(input(\"enter number\"))\n",
    "numbertolist(n)"
   ]
  },
  {
   "cell_type": "code",
   "execution_count": 4,
   "metadata": {},
   "outputs": [
    {
     "name": "stdout",
     "output_type": "stream",
     "text": [
      "Item found\n"
     ]
    }
   ],
   "source": [
    "def binarysearch(a,lIndex,rIndex,keyelement):\n",
    "    while lIndex<=rIndex:\n",
    "        mIndex=lIndex+(rIndex-lIndex)//2;\n",
    "        if a[mIndex]==keyelement:\n",
    "            return mIndex\n",
    "        if a[mIndex]>keyelement:\n",
    "            rIndex=mIndex-1\n",
    "        else:\n",
    "            lIndex=mIndex+1\n",
    "    return -1\n",
    "list1=[1,4,9,15,25,45,57,88,98]\n",
    "res=binarysearch(list1,0,8,57)\n",
    "if res!=-1:\n",
    "    print(\"Item found\")\n",
    "else:\n",
    "    print(\"Item not found\")"
   ]
  },
  {
   "cell_type": "code",
   "execution_count": 6,
   "metadata": {},
   "outputs": [
    {
     "name": "stdout",
     "output_type": "stream",
     "text": [
      "1 3 6 18 19 25 [1, 3, 6, 18, 19, 25]\n"
     ]
    }
   ],
   "source": [
    "def bubblesort(a):\n",
    "    for i in range(len(a)-1):\n",
    "        for j in range (len(a)-1):\n",
    "            if a[j]>a[j+1]:\n",
    "                a[j],a[j+1]=a[j+1],a[j]\n",
    "    for i in range (len(a)):\n",
    "        print(a[i],end=\" \")\n",
    "list1=[19,1,25,6,18,3]\n",
    "bubblesort(list1)\n",
    "list1.sort()\n",
    "print(list1)"
   ]
  },
  {
   "cell_type": "code",
   "execution_count": null,
   "metadata": {},
   "outputs": [],
   "source": []
  }
 ],
 "metadata": {
  "kernelspec": {
   "display_name": "Python 3",
   "language": "python",
   "name": "python3"
  },
  "language_info": {
   "codemirror_mode": {
    "name": "ipython",
    "version": 3
   },
   "file_extension": ".py",
   "mimetype": "text/x-python",
   "name": "python",
   "nbconvert_exporter": "python",
   "pygments_lexer": "ipython3",
   "version": "3.7.3"
  }
 },
 "nbformat": 4,
 "nbformat_minor": 2
}
