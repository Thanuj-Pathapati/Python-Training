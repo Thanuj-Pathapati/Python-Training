{
 "cells": [
  {
   "cell_type": "code",
   "execution_count": 9,
   "metadata": {},
   "outputs": [
    {
     "name": "stdout",
     "output_type": "stream",
     "text": [
      "0 2 6 12 20 30 42 56 72 90 "
     ]
    }
   ],
   "source": [
    "def printeven(n):\n",
    "    count=0;\n",
    "    sum=0;\n",
    "    while(count!=n):\n",
    "        if(count%2==0):\n",
    "            sum=sum+count;\n",
    "            print(sum,end=\" \");\n",
    "        count=count+1;\n",
    "    return;\n",
    "printeven(20);\n",
    "    "
   ]
  },
  {
   "cell_type": "code",
   "execution_count": 4,
   "metadata": {},
   "outputs": [
    {
     "name": "stdout",
     "output_type": "stream",
     "text": [
      "1 2 3 4 6 "
     ]
    }
   ],
   "source": [
    "def factorslist(n):\n",
    "    i=1;\n",
    "    while(i!=n):\n",
    "        if(n%i==0):\n",
    "            print(i,end=\" \");\n",
    "        i=i+1;\n",
    "    return;\n",
    "factorslist(12);"
   ]
  },
  {
   "cell_type": "code",
   "execution_count": 12,
   "metadata": {},
   "outputs": [
    {
     "name": "stdout",
     "output_type": "stream",
     "text": [
      "[1, 2, 3, 4, 5]\n",
      "3\n"
     ]
    }
   ],
   "source": [
    "list1=[1,2,3,4,5];\n",
    "#entirelist\n",
    "print(list1);\n",
    "#for elements in list\n",
    "print(list1[2]);\n"
   ]
  },
  {
   "cell_type": "code",
   "execution_count": 27,
   "metadata": {},
   "outputs": [
    {
     "name": "stdout",
     "output_type": "stream",
     "text": [
      "['thanuj', 'tharun', 'thanush', 'tejesh', 'trivikram']\n",
      "thanuj tharun thanush tejesh trivikram "
     ]
    }
   ],
   "source": [
    "list2=[\"thanuj\",\"tharun\",\"thanush\",\"tejesh\",\"trivikram\"];\n",
    "print(list2);\n",
    "for x in list2:\n",
    "    print(x,end=\" \");"
   ]
  },
  {
   "cell_type": "code",
   "execution_count": 2,
   "metadata": {},
   "outputs": [
    {
     "name": "stdout",
     "output_type": "stream",
     "text": [
      "1 2 3 4 5 6 7 \n",
      "5\n",
      "[4, 5, 6, 7]\n",
      "[2, 3, 4, 5, 6]\n",
      "[1, 2, 3, 4, 5, 6, 7]\n",
      "[1, 2, 3, 4]\n"
     ]
    }
   ],
   "source": [
    "#list of elements with particular elements\n",
    "list3=[1,2,3,4,5,6,7];\n",
    "for x in list3:\n",
    "    print(x,end=\" \");\n",
    "print();\n",
    "print(list3[4]);\n",
    "print(list3[3:7]);\n",
    "print(list3[1:6]);\n",
    "print(list3[:7]);\n",
    "print(list3[:4]);"
   ]
  },
  {
   "cell_type": "code",
   "execution_count": 40,
   "metadata": {},
   "outputs": [
    {
     "name": "stdout",
     "output_type": "stream",
     "text": [
      "1 2 3 4 5 6 7 8 9 10 \n",
      "[2, 3, 4, 5, 6, 7, 8, 9]\n",
      "[3, 4, 5, 6, 7, 8]\n",
      "[1, 4, 7, 10]\n",
      "[1, 3, 5, 7, 9]\n",
      "[10, 8, 6, 4, 2]\n",
      "[10, 6, 2]\n"
     ]
    }
   ],
   "source": [
    "list4=[1,2,3,4,5,6,7,8,9,10]\n",
    "for x in list4:\n",
    "    print(x,end=\" \");\n",
    "print();\n",
    "print(list4[1:-1]);\n",
    "print(list4[2:-2]);\n",
    "print(list4[::3]);\n",
    "print(list4[::2]);\n",
    "print(list4[::-2]);\n",
    "print(list4[::-4]);"
   ]
  },
  {
   "cell_type": "code",
   "execution_count": 53,
   "metadata": {},
   "outputs": [
    {
     "name": "stdout",
     "output_type": "stream",
     "text": [
      "['thanuj', 'tharun', 'triviram']\n",
      "['thanuj', 'tharun', 15]\n",
      "['thanuj', 'tharun']\n",
      "['thanuj', 'Gitam']\n",
      "[1, 2, 4]\n",
      "['thanuj', 'Gitam', 1, 2, 4]\n"
     ]
    }
   ],
   "source": [
    "list5=[\"thanuj\",\"tharun\",\"triviram\"];\n",
    "print(list5);\n",
    "list5[2]=15;#updating the list\n",
    "print(list5);\n",
    "del list5[2];#delete the list item\n",
    "print(list5);\n",
    "list5[1]=\"Gitam\";\n",
    "print(list5);\n",
    "list6=[1,2,4];\n",
    "print(list6);\n",
    "print(list5+list6);#concatination of both lists"
   ]
  },
  {
   "cell_type": "code",
   "execution_count": 79,
   "metadata": {},
   "outputs": [
    {
     "name": "stdout",
     "output_type": "stream",
     "text": [
      "[1, 2, 4, 5]\n",
      "4\n",
      "[1, 2, 4, 5, 15]\n",
      "[1, 2, 4, 5, 15, 150]\n",
      "[1, 2, 4, 5, 15, 150, 4, 4, 5]\n",
      "3\n",
      "2\n"
     ]
    }
   ],
   "source": [
    "list1=[1,2,3,4,5];\n",
    "del list1[2];\n",
    "print(list1);\n",
    "#add item to list\n",
    "print(len(list1));\n",
    "list1.append(15);\n",
    "print(list1);\n",
    "list1.append(150);\n",
    "print(list1);\n",
    "list1.append(4);\n",
    "list1.append(4);\n",
    "list1.append(5);\n",
    "print(list1);\n",
    "print(list1.count(4))#repitition of elements\n",
    "print(list1.count(5))"
   ]
  },
  {
   "cell_type": "code",
   "execution_count": 85,
   "metadata": {},
   "outputs": [
    {
     "name": "stdout",
     "output_type": "stream",
     "text": [
      "['gitam', 'python', 1, 4, 5]\n",
      "['gitam', 'python', 1, 4, 5]\n"
     ]
    },
    {
     "data": {
      "text/plain": [
       "2"
      ]
     },
     "execution_count": 85,
     "metadata": {},
     "output_type": "execute_result"
    }
   ],
   "source": [
    "list1=[\"gitam\",\"python\",1,4,5]\n",
    "print(list1);\n",
    "list1.index(\"python\")\n",
    "\n",
    "list1.index(1)"
   ]
  },
  {
   "cell_type": "code",
   "execution_count": 91,
   "metadata": {},
   "outputs": [
    {
     "name": "stdout",
     "output_type": "stream",
     "text": [
      "['thanuj', 'revanth', 'joshna']\n",
      "3\n"
     ]
    }
   ],
   "source": [
    "list2=[\"thanuj\",\"ravan\",\"revanth\",\"joshna\"]\n",
    "list2.remove(\"ravan\")\n",
    "print(list2);\n",
    "print(len(list2));"
   ]
  },
  {
   "cell_type": "code",
   "execution_count": null,
   "metadata": {},
   "outputs": [],
   "source": []
  },
  {
   "cell_type": "code",
   "execution_count": null,
   "metadata": {},
   "outputs": [],
   "source": []
  }
 ],
 "metadata": {
  "kernelspec": {
   "display_name": "Python 3",
   "language": "python",
   "name": "python3"
  },
  "language_info": {
   "codemirror_mode": {
    "name": "ipython",
    "version": 3
   },
   "file_extension": ".py",
   "mimetype": "text/x-python",
   "name": "python",
   "nbconvert_exporter": "python",
   "pygments_lexer": "ipython3",
   "version": "3.7.3"
  }
 },
 "nbformat": 4,
 "nbformat_minor": 2
}
