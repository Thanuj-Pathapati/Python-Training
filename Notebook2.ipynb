{
 "cells": [
  {
   "cell_type": "code",
   "execution_count": 1,
   "metadata": {},
   "outputs": [],
   "source": [
    "x=10;\n",
    "if(x<15): \n",
    "  print(\"hello\");"
   ]
  },
  {
   "cell_type": "code",
   "execution_count": 2,
   "metadata": {},
   "outputs": [
    {
     "name": "stdout",
     "output_type": "stream",
     "text": [
      "Good Night\n"
     ]
    }
   ],
   "source": [
    "x=10;\n",
    "if(x>15):\n",
    "  print(\"Good Morning\");\n",
    "else: \n",
    "  print(\"Good Night\");"
   ]
  },
  {
   "cell_type": "code",
   "execution_count": 3,
   "metadata": {},
   "outputs": [
    {
     "name": "stdout",
     "output_type": "stream",
     "text": [
      "x is less than or equal to 10\n"
     ]
    }
   ],
   "source": [
    "x=10;\n",
    "if(x>10):\n",
    "  print(\"x is greater than 10\");\n",
    "else:\n",
    "  print(\"x is less than or equal to 10\");"
   ]
  },
  {
   "cell_type": "code",
   "execution_count": 4,
   "metadata": {},
   "outputs": [
    {
     "data": {
      "text/plain": [
       "5.8"
      ]
     },
     "execution_count": 4,
     "metadata": {},
     "output_type": "execute_result"
    }
   ],
   "source": [
    "1*4+3**2/5"
   ]
  },
  {
   "cell_type": "code",
   "execution_count": 5,
   "metadata": {},
   "outputs": [
    {
     "name": "stdout",
     "output_type": "stream",
     "text": [
      "y is greater number\n"
     ]
    }
   ],
   "source": [
    "x=10;\n",
    "y=20;\n",
    "if(x>y):\n",
    " print(\"x is greater number\");\n",
    "else:\n",
    " print(\"y is greater number\"); "
   ]
  },
  {
   "cell_type": "code",
   "execution_count": 6,
   "metadata": {},
   "outputs": [
    {
     "name": "stdout",
     "output_type": "stream",
     "text": [
      "30\n"
     ]
    }
   ],
   "source": [
    "x=6;\n",
    "y=5;\n",
    "if(x!=y):\n",
    " print(x*y);\n",
    "else:\n",
    " print(x*x);"
   ]
  },
  {
   "cell_type": "code",
   "execution_count": 7,
   "metadata": {},
   "outputs": [
    {
     "name": "stdout",
     "output_type": "stream",
     "text": [
      "x is positive number\n"
     ]
    }
   ],
   "source": [
    "x=1;\n",
    "if(x<0):\n",
    " print(\"x is negative number\");\n",
    "elif(x>0):\n",
    " print(\"x is positive number\");\n",
    "elif(x==0):\n",
    " print(\"it is equal to 0\");"
   ]
  },
  {
   "cell_type": "code",
   "execution_count": 8,
   "metadata": {},
   "outputs": [
    {
     "name": "stdout",
     "output_type": "stream",
     "text": [
      "-22\n",
      "-23\n",
      "-24\n",
      "-25\n",
      "-26\n",
      "-27\n",
      "-28\n",
      "-29\n",
      "-30\n",
      "-31\n",
      "-32\n",
      "-33\n",
      "-34\n",
      "-35\n",
      "-36\n",
      "-37\n",
      "-38\n",
      "-39\n",
      "-40\n",
      "-41\n",
      "-42\n",
      "-43\n",
      "-44\n",
      "-45\n"
     ]
    }
   ],
   "source": [
    "n=-22;\n",
    "while(n>=-45):\n",
    " print(n);\n",
    " n=n-1;"
   ]
  },
  {
   "cell_type": "code",
   "execution_count": 23,
   "metadata": {},
   "outputs": [
    {
     "name": "stdout",
     "output_type": "stream",
     "text": [
      "10 9 8 7 6 5 4 3 2 1 "
     ]
    }
   ],
   "source": [
    "n=10;\n",
    "while(n>=1):\n",
    " print(n,end=\" \");\n",
    " n=n-1;"
   ]
  },
  {
   "cell_type": "markdown",
   "metadata": {},
   "source": [
    "x=int(input(\"Enter lower limit\"));\n",
    "y=int(input(\"Enter upper limit\"));\n",
    "sum=0;\n",
    "while(x!=y):\n",
    "  if(x%2==0):\n",
    "   sum=sum+x;\n",
    "  x=x+1;\n",
    "    \n",
    "print(sum);"
   ]
  },
  {
   "cell_type": "markdown",
   "metadata": {},
   "source": []
  },
  {
   "cell_type": "code",
   "execution_count": 1,
   "metadata": {},
   "outputs": [
    {
     "name": "stdout",
     "output_type": "stream",
     "text": [
      "Enter number14\n",
      "4 1 "
     ]
    }
   ],
   "source": [
    "n=int(input(\"Enter number\"));\n",
    "while(n!=0):\n",
    "  digit=n%10;\n",
    "  n=n//10;\n",
    "  print(digit,end=\" \");"
   ]
  },
  {
   "cell_type": "code",
   "execution_count": 1,
   "metadata": {},
   "outputs": [
    {
     "name": "stdout",
     "output_type": "stream",
     "text": [
      "Enter number14\n",
      "4\n"
     ]
    }
   ],
   "source": [
    "n=int(input(\"Enter number\"));\n",
    "sum=0;\n",
    "while(n!=0):\n",
    "    digit=n%10;\n",
    "    n=n//10;\n",
    "    if(digit%2==0):\n",
    "        sum=sum+digit;\n",
    "print(sum);    "
   ]
  },
  {
   "cell_type": "code",
   "execution_count": 2,
   "metadata": {},
   "outputs": [
    {
     "name": "stdout",
     "output_type": "stream",
     "text": [
      "Enter number654\n",
      "Four\n",
      "Five\n",
      "Six\n"
     ]
    }
   ],
   "source": [
    "n=int(input(\"Enter number\"));\n",
    "while(n!=0):\n",
    "    digit=n%10;\n",
    "    n=n//10;\n",
    "    if(digit==0):\n",
    "        print(\"Zero\");\n",
    "    elif(digit==1):\n",
    "        print(\"One\");\n",
    "    elif(digit==2):\n",
    "        print(\"Two\");\n",
    "    elif(digit==3):\n",
    "        print(\"Three\");\n",
    "    elif(digit==4):\n",
    "        print(\"Four\");\n",
    "    elif(digit==5):\n",
    "        print(\"Five\");\n",
    "    elif(digit==6):\n",
    "        print(\"Six\");\n",
    "    elif(digit==7):\n",
    "        print(\"Seven\");\n",
    "    elif(digit==8):\n",
    "        print(\"Eight\");\n",
    "    elif(digit==9):\n",
    "        print(\"Nine\");"
   ]
  },
  {
   "cell_type": "code",
   "execution_count": 101,
   "metadata": {
    "scrolled": true
   },
   "outputs": [
    {
     "name": "stdout",
     "output_type": "stream",
     "text": [
      "Enter number6\n",
      "Enter first number60\n",
      "Enter second number65\n",
      "5\n"
     ]
    }
   ],
   "source": [
    "n=int(input(\"Enter number\"));\n",
    "x=int(input(\"Enter first number\"));\n",
    "y=int(input(\"Enter second number\"));\n",
    "count=0;\n",
    "while(x!=y):\n",
    "   buffer=x;  \n",
    "   while(x!=0):\n",
    "        digit=x%10;\n",
    "        if(digit==n):\n",
    "            count=count+1;\n",
    "        x=x//10; \n",
    "   x=buffer;\n",
    "   x=x+1;\n",
    "\n",
    "print(count);"
   ]
  },
  {
   "cell_type": "code",
   "execution_count": 25,
   "metadata": {},
   "outputs": [
    {
     "name": "stdout",
     "output_type": "stream",
     "text": [
      "1 2 3 4 5 6 7 8 9 \n",
      "1 2 3 4 5 6 7 8 9 10 11 12 13 14 15 \n"
     ]
    }
   ],
   "source": [
    "def printNaturalNumber(n):\n",
    "    count=1;\n",
    "    while(count<=n):\n",
    "        print(count,end=\" \");\n",
    "        count=count+1\n",
    "    print()   \n",
    "    return\n",
    "printNaturalNumber(9);\n",
    "printNaturalNumber(15);"
   ]
  },
  {
   "cell_type": "code",
   "execution_count": 28,
   "metadata": {},
   "outputs": [
    {
     "name": "stdout",
     "output_type": "stream",
     "text": [
      "120\n",
      "5040\n",
      "3628800\n"
     ]
    }
   ],
   "source": [
    "def factorialnumber(n):\n",
    "    fact=1;\n",
    "    while(n!=0):\n",
    "        fact=fact*n;\n",
    "        n=n-1;\n",
    "    return fact;   \n",
    "print(factorialnumber(5));\n",
    "print(factorialnumber(7));\n",
    "print(factorialnumber(10));"
   ]
  },
  {
   "cell_type": "code",
   "execution_count": 87,
   "metadata": {},
   "outputs": [
    {
     "name": "stdout",
     "output_type": "stream",
     "text": [
      "2\n"
     ]
    }
   ],
   "source": [
    "def palindromecount(x,y):\n",
    "    count=0;\n",
    "    while(x!=y):\n",
    "        sum=0;\n",
    "        buffer=x;\n",
    "        while(x!=0):\n",
    "            r=x%10;\n",
    "            sum=(sum*10)+r;\n",
    "            x=x//10;\n",
    "        if(buffer==sum):\n",
    "            count=count+1;\n",
    "        x=buffer;\n",
    "        x=x+1;\n",
    "    return count;\n",
    "print(palindromecount(10,30));\n",
    "    \n",
    "    "
   ]
  },
  {
   "cell_type": "code",
   "execution_count": 3,
   "metadata": {},
   "outputs": [
    {
     "name": "stdout",
     "output_type": "stream",
     "text": [
      "[404, 3.3]\n"
     ]
    }
   ],
   "source": [
    "list=[\"tech\",404,3.30,\"beamers\",33.3]\n",
    "print(list[1:3]);"
   ]
  },
  {
   "cell_type": "code",
   "execution_count": 2,
   "metadata": {},
   "outputs": [
    {
     "name": "stdout",
     "output_type": "stream",
     "text": [
      "6\n"
     ]
    }
   ],
   "source": [
    "list1=[6,4,5];\n",
    "list2=[1,2,3];\n",
    "print(len(list1+list2));"
   ]
  },
  {
   "cell_type": "code",
   "execution_count": 5,
   "metadata": {},
   "outputs": [
    {
     "name": "stdout",
     "output_type": "stream",
     "text": [
      "True\n"
     ]
    }
   ],
   "source": [
    "s=\"foo\"\n",
    "t=\"bar\"\n",
    "print(\"barf\" in 2*(s+t))"
   ]
  },
  {
   "cell_type": "code",
   "execution_count": 6,
   "metadata": {},
   "outputs": [
    {
     "data": {
      "text/plain": [
       "True"
      ]
     },
     "execution_count": 6,
     "metadata": {},
     "output_type": "execute_result"
    }
   ],
   "source": [
    "s[:]==s"
   ]
  },
  {
   "cell_type": "code",
   "execution_count": null,
   "metadata": {},
   "outputs": [],
   "source": []
  }
 ],
 "metadata": {
  "kernelspec": {
   "display_name": "Python 3",
   "language": "python",
   "name": "python3"
  },
  "language_info": {
   "codemirror_mode": {
    "name": "ipython",
    "version": 3
   },
   "file_extension": ".py",
   "mimetype": "text/x-python",
   "name": "python",
   "nbconvert_exporter": "python",
   "pygments_lexer": "ipython3",
   "version": "3.7.3"
  }
 },
 "nbformat": 4,
 "nbformat_minor": 2
}
